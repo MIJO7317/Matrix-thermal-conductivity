{
 "cells": [
  {
   "cell_type": "code",
   "execution_count": 2,
   "metadata": {},
   "outputs": [],
   "source": [
    "import numpy as np\n",
    "import scipy.optimize as opt\n",
    "import sympy as sp"
   ]
  },
  {
   "cell_type": "code",
   "execution_count": 15,
   "metadata": {},
   "outputs": [],
   "source": [
    "# This application must solve numerically the following two-dimensional partial differential equation:\n",
    "# -div(K*grad(u)) + v*grad(u) = f\n",
    "# where K is a two-by-two matrix function of x and y, v is a vector function of x and y, and f is a scalar function of x and y."
   ]
  },
  {
   "cell_type": "code",
   "execution_count": 6,
   "metadata": {},
   "outputs": [
    {
     "name": "stderr",
     "output_type": "stream",
     "text": [
      "c:\\Users\\stas2\\AppData\\Local\\Programs\\Python\\Python39\\lib\\site-packages\\numpy\\core\\shape_base.py:65: VisibleDeprecationWarning: Creating an ndarray from ragged nested sequences (which is a list-or-tuple of lists-or-tuples-or ndarrays with different lengths or shapes) is deprecated. If you meant to do this, you must specify 'dtype=object' when creating the ndarray.\n",
      "  ary = asanyarray(ary)\n"
     ]
    }
   ],
   "source": [
    "# Define step size\n",
    "h = 0.01\n",
    "\n",
    "# Define x boundaries\n",
    "x_min = 0\n",
    "x_max = 1\n",
    "\n",
    "# Define y boundaries\n",
    "y_min = 0\n",
    "y_max = 1\n",
    "\n",
    "# Define the number of nodes in x\n",
    "N_x = int(1 / h)\n",
    "\n",
    "# Define the number of nodes in y\n",
    "N_y = int(1 / h)\n",
    "\n",
    "# Define K - a two-by-two matrix function depending on x and y\n",
    "K = lambda x, y : np.matrix([[np.sin(x), np.cos(x)], [np.cos(y), np.sin(y)]])\n",
    "\n",
    "# Define v - a two dimensional vector function v depends on x and y\n",
    "v = lambda x, y : np.array([np.cos(x), np.sin(y)])\n",
    "\n",
    "# Define f - a scalar function depending on x and y\n",
    "f = lambda x, y : np.sin(x) * np.cos(y)\n",
    "\n",
    "# Define matrix u - solve the equation -div(K*grad(u)) + v*grad(u) = f\n",
    "u = np.zeros((N_x, N_y))\n",
    "\n",
    "# Define the set of neighbors of node i,j\n",
    "def neighbors(i, j):\n",
    "    if i == 0:\n",
    "        if j == 0:\n",
    "            return [(i, j + 1), (i + 1, j)]\n",
    "        elif j == N_y - 1:\n",
    "            return [(i, j - 1), (i + 1, j)]\n",
    "        else:\n",
    "            return [(i, j - 1), (i, j + 1), (i + 1, j)]\n",
    "    elif i == N_x - 1:\n",
    "        if j == 0:\n",
    "            return [(i - 1, j), (i, j + 1)]\n",
    "        elif j == N_y - 1:\n",
    "            return [(i - 1, j), (i, j - 1)]\n",
    "        else:\n",
    "            return [(i - 1, j), (i, j - 1), (i, j + 1)]\n",
    "    elif j == 0:\n",
    "        return [(i - 1, j), (i + 1, j), (i, j + 1)]\n",
    "    elif j == N_y - 1:\n",
    "        return [(i - 1, j), (i + 1, j), (i, j - 1)]\n",
    "    else:\n",
    "        return [(i - 1, j), (i + 1, j), (i, j - 1), (i, j + 1)]\n",
    "    \n",
    "# Define function that return normal between two nodes\n",
    "def normal(node_1, node_2):\n",
    "    x_1, y_1 = tuple(h*np.array(node_1))\n",
    "    x_2, y_2 = tuple(h*np.array(node_2))\n",
    "    return np.array([y_2 - y_1, x_2 - x_1]) / np.sqrt((x_2 - x_1) ** 2 + (y_2 - y_1) ** 2)\n",
    "\n",
    "# Define function that return point between two nodes\n",
    "def middle_point(node_1, node_2):\n",
    "    x_1, y_1 = tuple(h*np.array(node_1))\n",
    "    x_2, y_2 = tuple(h*np.array(node_2))\n",
    "    return np.array([(x_1 + x_2) / 2, (y_1 + y_2) / 2])\n",
    "\n",
    "# Define function that solves the system of nonlinear equations\n",
    "def solve_nonlinear_equations(u):\n",
    "    # Convert u into an N_x by N_y matrix\n",
    "    u = np.reshape(u, (N_x, N_y))\n",
    "    # Initialize equations\n",
    "    equations = []\n",
    "    # Fill equations\n",
    "    for i in range(1, N_x - 1):\n",
    "        for j in range(1, N_y - 1):\n",
    "            node = (i, j)\n",
    "            coefficient = 0\n",
    "            for neighbor_node_1 in neighbors(i, j):\n",
    "                first_coefficient = 0\n",
    "                for neighbor_node_2 in neighbors(i, j):\n",
    "                    middle_point_2 = middle_point(node, neighbor_node_2)\n",
    "                    first_coefficient += K(middle_point_2[0], middle_point_2[1]).transpose().dot(normal(node, neighbor_node_2)).dot(normal(node, neighbor_node_1))\n",
    "                middle_point_1 = middle_point(node, neighbor_node_1)\n",
    "                second_coefficient = h*v(middle_point_1[0], middle_point_1[1]).dot(normal(node, neighbor_node_1))\n",
    "                coefficient += (-first_coefficient + second_coefficient)/(2*h**2)\n",
    "            equations.append(coefficient*(u[neighbor_node_1[0]][neighbor_node_1[1]] - u[i][j]) - f(i*h, j*h))\n",
    "    for i in range(0, N_x):\n",
    "        equations.append(u[i][0])\n",
    "        equations.append(u[i][N_y - 1])\n",
    "    for j in range(1, N_y-1):\n",
    "        equations.append(u[0][j])\n",
    "        equations.append(u[N_x - 1][j])\n",
    "    # Return equations\n",
    "    return equations\n",
    "\n",
    "# Convert u from an N_x by N_y matrix to array\n",
    "u = np.reshape(u, (N_x*N_y, 1))\n",
    "\n",
    "# Solve the system of nonlinear equations\n",
    "u = np.array(opt.fsolve(solve_nonlinear_equations, u))"
   ]
  }
 ],
 "metadata": {
  "kernelspec": {
   "display_name": "Python 3.9.10 64-bit",
   "language": "python",
   "name": "python3"
  },
  "language_info": {
   "codemirror_mode": {
    "name": "ipython",
    "version": 3
   },
   "file_extension": ".py",
   "mimetype": "text/x-python",
   "name": "python",
   "nbconvert_exporter": "python",
   "pygments_lexer": "ipython3",
   "version": "3.9.10"
  },
  "orig_nbformat": 4,
  "vscode": {
   "interpreter": {
    "hash": "670f886bb491df400b8a46c547cdac4d4234710212a6195cc7ddd83502d821f4"
   }
  }
 },
 "nbformat": 4,
 "nbformat_minor": 2
}
